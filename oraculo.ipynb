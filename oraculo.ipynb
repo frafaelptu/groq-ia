{
 "cells": [
  {
   "cell_type": "markdown",
   "metadata": {},
   "source": [
    "## Primeiro projeto de leitor de documentos usando groq-ia"
   ]
  },
  {
   "cell_type": "code",
   "execution_count": 2,
   "metadata": {},
   "outputs": [],
   "source": [
    "from dotenv import load_dotenv\n",
    "import os\n",
    "\n",
    "api_key = os.getenv('GROQ_API_KEY')"
   ]
  },
  {
   "cell_type": "code",
   "execution_count": 3,
   "metadata": {},
   "outputs": [],
   "source": [
    "from langchain_groq import ChatGroq\n",
    "from langchain.prompts import ChatPromptTemplate\n",
    "chat = ChatGroq(model='llama-3.3-70b-versatile')"
   ]
  },
  {
   "cell_type": "markdown",
   "metadata": {},
   "source": [
    "## Exemplo de chamada\n",
    "res = chat.invoke('Você consegue me dizer se é um chatbot?')\n",
    "print(res)\n"
   ]
  },
  {
   "cell_type": "code",
   "execution_count": null,
   "metadata": {},
   "outputs": [],
   "source": [
    "from langchain_community.document_loaders import PyPDFLoader\n",
    "caminho = './pdfs/example.pdf'\n",
    "loader = PyPDFLoader(caminho)\n",
    "list_documents = loader.load()\n"
   ]
  },
  {
   "cell_type": "code",
   "execution_count": null,
   "metadata": {},
   "outputs": [],
   "source": [
    "document = ''\n",
    "for doc in list_documents:\n",
    "    document = document + doc.page_content"
   ]
  },
  {
   "cell_type": "code",
   "execution_count": null,
   "metadata": {},
   "outputs": [
    {
     "data": {
      "text/plain": [
       "'Infelizmente, não tenho informações suficientes sobre o documento de exemplo que você mencionou. Os textos que você forneceu parecem ser apenas uma repetição da frase \"PDF de Exemplo\" e não contêm informações concretas sobre o conteúdo do documento.\\n\\nSe você puder fornecer mais detalhes sobre o documento, como seu título, autor ou uma breve descrição do que ele contém, eu posso tentar ajudá-lo a criar um resumo dos principais pontos. Estou aqui para ajudar!'"
      ]
     },
     "execution_count": 16,
     "metadata": {},
     "output_type": "execute_result"
    }
   ],
   "source": [
    "template = ChatPromptTemplate([\n",
    "    ('system', 'Você é um assistente amigável que possui as seguintes informações para formular as respostas: {informacoes}'),\n",
    "    ('user', '{input}')\n",
    "])\n",
    "\n",
    "chain_documents = template | chat\n",
    "response = chain_documents.invoke({'informacoes': documento, 'input': 'Me fale sobre o documento de exemplo, faça um resumos os principais pontos?'})\n",
    "response.content"
   ]
  }
 ],
 "metadata": {
  "kernelspec": {
   "display_name": "groq-ia-7OzvfiHL",
   "language": "python",
   "name": "python3"
  },
  "language_info": {
   "codemirror_mode": {
    "name": "ipython",
    "version": 3
   },
   "file_extension": ".py",
   "mimetype": "text/x-python",
   "name": "python",
   "nbconvert_exporter": "python",
   "pygments_lexer": "ipython3",
   "version": "3.11.0"
  }
 },
 "nbformat": 4,
 "nbformat_minor": 2
}
